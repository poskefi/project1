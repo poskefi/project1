{
  "cells": [
    {
      "cell_type": "markdown",
      "metadata": {
        "id": "CE-7x0ppuDNb"
      },
      "source": [
        "# Lab 7: Views\n",
        "\n",
        "### [name]\n",
        "### [student ID]"
      ]
    },
    {
      "cell_type": "markdown",
      "metadata": {
        "id": "GLP6EsuBuDNc"
      },
      "source": [
        "## Instruction\n",
        "You need to finish all questions of In-class exercises. Name your ipynb file as StudentName_lab7.ipynb and download it. And then submit it on Canvas.\n",
        "\n",
        "PLEASE ENSURE THAT THE SCRIPT CAN CORRECTLY EXECUTE!!!"
      ]
    },
    {
      "cell_type": "code",
      "execution_count": 1,
      "metadata": {
        "id": "kW_1_vWfuDNc"
      },
      "outputs": [],
      "source": [
        "#Let's connect to a database **lab7.db** using:\n",
        "%load_ext sql\n",
        "#%reload_ext sql\n",
        "%sql sqlite:///lab7.db"
      ]
    },
    {
      "cell_type": "markdown",
      "metadata": {
        "id": "hNhrqojpuDNd"
      },
      "source": [
        "We will continue to use the following three tables.\n",
        "\n",
        "1. Employee(<u>eid</u>:integer, ename:string, age:integer, salary:real)\n",
        "\n",
        "2. Works(<u>eid</u>:integer, <u>did</u>:integer, pct_time:integer)\n",
        "\n",
        "3. Department(<u>did</u>:integer, dname:string, budge:real, managerid:integer)\n",
        "\n",
        "The keys are underlined in each relation. Relation **Employee** stores employee information such as unique identifier **eid**, employee name **ename**, **age** and **salary**. Relation **Department** stores the department unique identifier **did**, department name **dname**, the department **budget** and **managerid** which is the **eid** of the employee who is managing the department. The **managerid** value must always be found in the **eid** field of a record of the Employee relation. The Works relation tracks which\n",
        "employee works in which department, and what **percentage** of the time s/he allocates to that department. Note that, an employee can work in several departments."
      ]
    },
    {
      "cell_type": "code",
      "source": [
        "%%sql\n",
        "CREATE TABLE Employee (eid integer PRIMARY KEY,\n",
        "                       ename varchar(20),\n",
        "                       age integer,\n",
        "                       salary number(8,2));\n",
        "CREATE TABLE Department (did integer PRIMARY KEY,\n",
        "                         dname varchar(20),\n",
        "                         budget number(8,2),\n",
        "                         managerid integer,\n",
        "                         FOREIGN KEY (managerid) REFERENCES Employee(eid));\n",
        "CREATE TABLE Works (eid integer,\n",
        "                    did integer,\n",
        "                    pct_time integer,\n",
        "                    PRIMARY KEY(eid, did),\n",
        "                    FOREIGN KEY (eid) REFERENCES Employee,\n",
        "                    FOREIGN KEY (did) REFERENCES Department);"
      ],
      "metadata": {
        "id": "qO0PL6HGu_Pv",
        "colab": {
          "base_uri": "https://localhost:8080/"
        },
        "outputId": "855f6c4a-b5cc-4779-fcf7-50023ac27209"
      },
      "execution_count": 2,
      "outputs": [
        {
          "output_type": "stream",
          "name": "stdout",
          "text": [
            " * sqlite:///lab7.db\n",
            "Done.\n",
            "Done.\n",
            "Done.\n"
          ]
        },
        {
          "output_type": "execute_result",
          "data": {
            "text/plain": [
              "[]"
            ]
          },
          "metadata": {},
          "execution_count": 2
        }
      ]
    },
    {
      "cell_type": "markdown",
      "metadata": {
        "id": "TAs5-lfsuDNd"
      },
      "source": [
        "\n",
        "1. Employee\n",
        "\n",
        "| eid     | ename         | age | salary |  \n",
        "|---------|---------------|-----|--------|\n",
        "| 101     | Andrew Fuller | 40  | 50000  |\n",
        "| 102     | Justin Peacock| 25  | 15000  |\n",
        "| 103     | Nancy Buchanan| 35  | 30000  |\n",
        "| 104     | Robert King   | 30  | 20000  |\n",
        "| 104     | Emma Stone    | 55  | 90000  |\n",
        "\n",
        "2. Works:\n",
        "\n",
        "| eid     | did  | pct_time |\n",
        "|---------|------|----------|\n",
        "| 101     | 1001 | 100      |\n",
        "| 102     | 1001 | 20       |\n",
        "| 102     | 1002 | 50       |\n",
        "| 102     | 1003 | 10       |\n",
        "| 103     | 1003 | 90       |\n",
        "| 103     | 1001 | 10       |\n",
        "| 104     | 1001 | 20       |\n",
        "| 104     | 1002 | 70       |\n",
        "| 104     | 1002 | 100       |\n",
        "\n",
        "3. Department:\n",
        "\n",
        "| did     | dname    | budget  | managerid |\n",
        "|---------|----------|---------|-----------|\n",
        "| 1001    | IT       | 500000  | 101       |\n",
        "| 1002    | Computing| 750000  | 110       |\n",
        "| 1003    | Finance  | 350000  | 103       |\n",
        "\n",
        "\n"
      ]
    },
    {
      "cell_type": "code",
      "source": [
        "%%sql\n",
        "DELETE FROM Employee;\n",
        "DELETE FROM Works;\n",
        "DELETE FROM Department;\n",
        "insert into Employee values ( 101,'Andrew Fuller', 40, 50000);\n",
        "insert into Employee values ( 102, 'Justin Peacock', 25, 20000);\n",
        "insert into Employee values ( 103, 'Nancy Buchanan', 35, 30000);\n",
        "insert into Employee values ( 104, 'Robert King', 30, 20000);\n",
        "insert into Employee values ( 110, 'Emma Stone', 55, 90000);\n",
        "\n",
        "insert into Department values (1001, 'IT', 500000, 101);\n",
        "insert into Department values (1002, 'Computing', 750000, 110);\n",
        "insert into Department values (1003, 'Finance', 350000, 103);\n",
        "\n",
        "insert into Works values (101, 1001, 100);\n",
        "insert into Works values (102, 1001, 20);\n",
        "insert into Works values (102, 1002, 50);\n",
        "insert into Works values (102, 1003, 10);\n",
        "insert into Works values (103, 1003, 90);\n",
        "insert into Works values (103, 1001, 10);\n",
        "insert into Works values (104, 1001, 20);\n",
        "insert into Works values (104, 1002, 70);\n",
        "insert into Works values (110, 1002, 100);"
      ],
      "metadata": {
        "id": "Uh4EQcvTvLFX",
        "colab": {
          "base_uri": "https://localhost:8080/"
        },
        "outputId": "dda80337-d852-4620-e44e-86293e1e7815"
      },
      "execution_count": 3,
      "outputs": [
        {
          "output_type": "stream",
          "name": "stdout",
          "text": [
            " * sqlite:///lab7.db\n",
            "0 rows affected.\n",
            "0 rows affected.\n",
            "0 rows affected.\n",
            "1 rows affected.\n",
            "1 rows affected.\n",
            "1 rows affected.\n",
            "1 rows affected.\n",
            "1 rows affected.\n",
            "1 rows affected.\n",
            "1 rows affected.\n",
            "1 rows affected.\n",
            "1 rows affected.\n",
            "1 rows affected.\n",
            "1 rows affected.\n",
            "1 rows affected.\n",
            "1 rows affected.\n",
            "1 rows affected.\n",
            "1 rows affected.\n",
            "1 rows affected.\n",
            "1 rows affected.\n"
          ]
        },
        {
          "output_type": "execute_result",
          "data": {
            "text/plain": [
              "[]"
            ]
          },
          "metadata": {},
          "execution_count": 3
        }
      ]
    },
    {
      "cell_type": "code",
      "execution_count": 4,
      "metadata": {
        "id": "XYGwWDfHuDNd",
        "colab": {
          "base_uri": "https://localhost:8080/",
          "height": 182
        },
        "outputId": "f731626e-34dc-42d2-aab4-ad97b36e271c"
      },
      "outputs": [
        {
          "output_type": "stream",
          "name": "stdout",
          "text": [
            " * sqlite:///lab7.db\n",
            "Done.\n"
          ]
        },
        {
          "output_type": "execute_result",
          "data": {
            "text/plain": [
              "[(101, 'Andrew Fuller', 40, 50000),\n",
              " (102, 'Justin Peacock', 25, 20000),\n",
              " (103, 'Nancy Buchanan', 35, 30000),\n",
              " (104, 'Robert King', 30, 20000),\n",
              " (110, 'Emma Stone', 55, 90000)]"
            ],
            "text/html": [
              "<table>\n",
              "    <thead>\n",
              "        <tr>\n",
              "            <th>eid</th>\n",
              "            <th>ename</th>\n",
              "            <th>age</th>\n",
              "            <th>salary</th>\n",
              "        </tr>\n",
              "    </thead>\n",
              "    <tbody>\n",
              "        <tr>\n",
              "            <td>101</td>\n",
              "            <td>Andrew Fuller</td>\n",
              "            <td>40</td>\n",
              "            <td>50000</td>\n",
              "        </tr>\n",
              "        <tr>\n",
              "            <td>102</td>\n",
              "            <td>Justin Peacock</td>\n",
              "            <td>25</td>\n",
              "            <td>20000</td>\n",
              "        </tr>\n",
              "        <tr>\n",
              "            <td>103</td>\n",
              "            <td>Nancy Buchanan</td>\n",
              "            <td>35</td>\n",
              "            <td>30000</td>\n",
              "        </tr>\n",
              "        <tr>\n",
              "            <td>104</td>\n",
              "            <td>Robert King</td>\n",
              "            <td>30</td>\n",
              "            <td>20000</td>\n",
              "        </tr>\n",
              "        <tr>\n",
              "            <td>110</td>\n",
              "            <td>Emma Stone</td>\n",
              "            <td>55</td>\n",
              "            <td>90000</td>\n",
              "        </tr>\n",
              "    </tbody>\n",
              "</table>"
            ]
          },
          "metadata": {},
          "execution_count": 4
        }
      ],
      "source": [
        "%sql Select * from Employee"
      ]
    },
    {
      "cell_type": "code",
      "source": [
        "%sql Select * from Works"
      ],
      "metadata": {
        "id": "GrgIefqOvTIT",
        "colab": {
          "base_uri": "https://localhost:8080/",
          "height": 267
        },
        "outputId": "016acc53-8203-4da1-acf9-6c6cc4c03e5f"
      },
      "execution_count": 5,
      "outputs": [
        {
          "output_type": "stream",
          "name": "stdout",
          "text": [
            " * sqlite:///lab7.db\n",
            "Done.\n"
          ]
        },
        {
          "output_type": "execute_result",
          "data": {
            "text/plain": [
              "[(101, 1001, 100),\n",
              " (102, 1001, 20),\n",
              " (102, 1002, 50),\n",
              " (102, 1003, 10),\n",
              " (103, 1003, 90),\n",
              " (103, 1001, 10),\n",
              " (104, 1001, 20),\n",
              " (104, 1002, 70),\n",
              " (110, 1002, 100)]"
            ],
            "text/html": [
              "<table>\n",
              "    <thead>\n",
              "        <tr>\n",
              "            <th>eid</th>\n",
              "            <th>did</th>\n",
              "            <th>pct_time</th>\n",
              "        </tr>\n",
              "    </thead>\n",
              "    <tbody>\n",
              "        <tr>\n",
              "            <td>101</td>\n",
              "            <td>1001</td>\n",
              "            <td>100</td>\n",
              "        </tr>\n",
              "        <tr>\n",
              "            <td>102</td>\n",
              "            <td>1001</td>\n",
              "            <td>20</td>\n",
              "        </tr>\n",
              "        <tr>\n",
              "            <td>102</td>\n",
              "            <td>1002</td>\n",
              "            <td>50</td>\n",
              "        </tr>\n",
              "        <tr>\n",
              "            <td>102</td>\n",
              "            <td>1003</td>\n",
              "            <td>10</td>\n",
              "        </tr>\n",
              "        <tr>\n",
              "            <td>103</td>\n",
              "            <td>1003</td>\n",
              "            <td>90</td>\n",
              "        </tr>\n",
              "        <tr>\n",
              "            <td>103</td>\n",
              "            <td>1001</td>\n",
              "            <td>10</td>\n",
              "        </tr>\n",
              "        <tr>\n",
              "            <td>104</td>\n",
              "            <td>1001</td>\n",
              "            <td>20</td>\n",
              "        </tr>\n",
              "        <tr>\n",
              "            <td>104</td>\n",
              "            <td>1002</td>\n",
              "            <td>70</td>\n",
              "        </tr>\n",
              "        <tr>\n",
              "            <td>110</td>\n",
              "            <td>1002</td>\n",
              "            <td>100</td>\n",
              "        </tr>\n",
              "    </tbody>\n",
              "</table>"
            ]
          },
          "metadata": {},
          "execution_count": 5
        }
      ]
    },
    {
      "cell_type": "code",
      "source": [
        "%sql Select * from Department"
      ],
      "metadata": {
        "id": "wks9Z1RSvTAj",
        "colab": {
          "base_uri": "https://localhost:8080/",
          "height": 139
        },
        "outputId": "0ce7ae1b-37c9-45d0-8cf8-cfccb539e012"
      },
      "execution_count": 6,
      "outputs": [
        {
          "output_type": "stream",
          "name": "stdout",
          "text": [
            " * sqlite:///lab7.db\n",
            "Done.\n"
          ]
        },
        {
          "output_type": "execute_result",
          "data": {
            "text/plain": [
              "[(1001, 'IT', 500000, 101),\n",
              " (1002, 'Computing', 750000, 110),\n",
              " (1003, 'Finance', 350000, 103)]"
            ],
            "text/html": [
              "<table>\n",
              "    <thead>\n",
              "        <tr>\n",
              "            <th>did</th>\n",
              "            <th>dname</th>\n",
              "            <th>budget</th>\n",
              "            <th>managerid</th>\n",
              "        </tr>\n",
              "    </thead>\n",
              "    <tbody>\n",
              "        <tr>\n",
              "            <td>1001</td>\n",
              "            <td>IT</td>\n",
              "            <td>500000</td>\n",
              "            <td>101</td>\n",
              "        </tr>\n",
              "        <tr>\n",
              "            <td>1002</td>\n",
              "            <td>Computing</td>\n",
              "            <td>750000</td>\n",
              "            <td>110</td>\n",
              "        </tr>\n",
              "        <tr>\n",
              "            <td>1003</td>\n",
              "            <td>Finance</td>\n",
              "            <td>350000</td>\n",
              "            <td>103</td>\n",
              "        </tr>\n",
              "    </tbody>\n",
              "</table>"
            ]
          },
          "metadata": {},
          "execution_count": 6
        }
      ]
    },
    {
      "cell_type": "code",
      "source": [
        "%%sql\n",
        "drop view if exists ManagerSummary;\n",
        "create view ManagerSummary(DeptName, MgrID, MgrName, MgrSalary, EmpCount)\n",
        "as\n",
        "select D.dname, D.managerid, E.ename, E.salary, Count(E.eid)-1\n",
        "from Employee E, Works W, Department D\n",
        "where E.eid = D.managerid and D.did = W.did\n",
        "group by D.did;"
      ],
      "metadata": {
        "colab": {
          "base_uri": "https://localhost:8080/"
        },
        "id": "Vl23kzQayv7g",
        "outputId": "4a717813-c5f3-4a0f-daa0-d49f7262c00d"
      },
      "execution_count": 36,
      "outputs": [
        {
          "output_type": "stream",
          "name": "stdout",
          "text": [
            " * sqlite:///lab7.db\n",
            "Done.\n",
            "Done.\n"
          ]
        },
        {
          "output_type": "execute_result",
          "data": {
            "text/plain": [
              "[]"
            ]
          },
          "metadata": {},
          "execution_count": 36
        }
      ]
    },
    {
      "cell_type": "code",
      "source": [
        "%%sql\n",
        "select * from ManagerSummary;"
      ],
      "metadata": {
        "colab": {
          "base_uri": "https://localhost:8080/",
          "height": 139
        },
        "id": "aT3LJbYe1U8z",
        "outputId": "007d167c-5155-4e34-c8b4-fd6de5a91d45"
      },
      "execution_count": 37,
      "outputs": [
        {
          "output_type": "stream",
          "name": "stdout",
          "text": [
            " * sqlite:///lab7.db\n",
            "Done.\n"
          ]
        },
        {
          "output_type": "execute_result",
          "data": {
            "text/plain": [
              "[('IT', 101, 'Andrew Fuller', 50000, 3),\n",
              " ('Computing', 110, 'Emma Stone', 90000, 2),\n",
              " ('Finance', 103, 'Nancy Buchanan', 30000, 1)]"
            ],
            "text/html": [
              "<table>\n",
              "    <thead>\n",
              "        <tr>\n",
              "            <th>DeptName</th>\n",
              "            <th>MgrID</th>\n",
              "            <th>MgrName</th>\n",
              "            <th>MgrSalary</th>\n",
              "            <th>EmpCount</th>\n",
              "        </tr>\n",
              "    </thead>\n",
              "    <tbody>\n",
              "        <tr>\n",
              "            <td>IT</td>\n",
              "            <td>101</td>\n",
              "            <td>Andrew Fuller</td>\n",
              "            <td>50000</td>\n",
              "            <td>3</td>\n",
              "        </tr>\n",
              "        <tr>\n",
              "            <td>Computing</td>\n",
              "            <td>110</td>\n",
              "            <td>Emma Stone</td>\n",
              "            <td>90000</td>\n",
              "            <td>2</td>\n",
              "        </tr>\n",
              "        <tr>\n",
              "            <td>Finance</td>\n",
              "            <td>103</td>\n",
              "            <td>Nancy Buchanan</td>\n",
              "            <td>30000</td>\n",
              "            <td>1</td>\n",
              "        </tr>\n",
              "    </tbody>\n",
              "</table>"
            ]
          },
          "metadata": {},
          "execution_count": 37
        }
      ]
    },
    {
      "cell_type": "markdown",
      "metadata": {
        "id": "QZnPeb2wuDNd"
      },
      "source": [
        "## In-class Assignment"
      ]
    },
    {
      "cell_type": "markdown",
      "metadata": {
        "id": "19qKaK9ruDNe"
      },
      "source": [
        "### Exercise 1\n",
        "Create a view named \"FullTimeEmployees\" that displays employee names and their departments for employees who work 100% of time in a single department(pct_time = 100)."
      ]
    },
    {
      "cell_type": "code",
      "execution_count": 38,
      "metadata": {
        "id": "4oTvqW5SuDNe",
        "colab": {
          "base_uri": "https://localhost:8080/"
        },
        "outputId": "10d3663e-6593-4c64-9780-5f688d375ac3"
      },
      "outputs": [
        {
          "output_type": "stream",
          "name": "stdout",
          "text": [
            " * sqlite:///lab7.db\n",
            "Done.\n",
            "Done.\n"
          ]
        },
        {
          "output_type": "execute_result",
          "data": {
            "text/plain": [
              "[]"
            ]
          },
          "metadata": {},
          "execution_count": 38
        }
      ],
      "source": [
        "%%sql\n",
        "\n",
        "Drop view if exists FullTimeEmployees;\n",
        "\n",
        "-- your answer here\n",
        "create view FullTimeEmployees (EmpName, DeptName) as\n",
        "select E.ename, D.dname\n",
        "from Works W, Department D, Employee E\n",
        "where W.eid = E.eid and W.did = D.did and W.pct_time = 100;"
      ]
    },
    {
      "cell_type": "code",
      "source": [
        "%%sql\n",
        "select * from FullTimeEmployees;"
      ],
      "metadata": {
        "colab": {
          "base_uri": "https://localhost:8080/",
          "height": 118
        },
        "id": "_I_h95kKuXDR",
        "outputId": "31edfeb4-e2eb-4be5-b31c-7cd68382e65e"
      },
      "execution_count": 39,
      "outputs": [
        {
          "output_type": "stream",
          "name": "stdout",
          "text": [
            " * sqlite:///lab7.db\n",
            "Done.\n"
          ]
        },
        {
          "output_type": "execute_result",
          "data": {
            "text/plain": [
              "[('Andrew Fuller', 'IT'), ('Emma Stone', 'Computing')]"
            ],
            "text/html": [
              "<table>\n",
              "    <thead>\n",
              "        <tr>\n",
              "            <th>EmpName</th>\n",
              "            <th>DeptName</th>\n",
              "        </tr>\n",
              "    </thead>\n",
              "    <tbody>\n",
              "        <tr>\n",
              "            <td>Andrew Fuller</td>\n",
              "            <td>IT</td>\n",
              "        </tr>\n",
              "        <tr>\n",
              "            <td>Emma Stone</td>\n",
              "            <td>Computing</td>\n",
              "        </tr>\n",
              "    </tbody>\n",
              "</table>"
            ]
          },
          "metadata": {},
          "execution_count": 39
        }
      ]
    },
    {
      "cell_type": "markdown",
      "metadata": {
        "id": "noMt3oHsuDNe"
      },
      "source": [
        "### Exercise 2  \n",
        "Create a view named \"EmployeeStats\" that displays the average salary, minimum age, and maximum age for each department. Include departments with at least two employees."
      ]
    },
    {
      "cell_type": "code",
      "execution_count": 48,
      "metadata": {
        "id": "cIqgxoWYuDNe",
        "colab": {
          "base_uri": "https://localhost:8080/"
        },
        "outputId": "28d10b83-afc4-4c0a-9927-43d2e6e0c496"
      },
      "outputs": [
        {
          "output_type": "stream",
          "name": "stdout",
          "text": [
            " * sqlite:///lab7.db\n",
            "Done.\n",
            "Done.\n"
          ]
        },
        {
          "output_type": "execute_result",
          "data": {
            "text/plain": [
              "[]"
            ]
          },
          "metadata": {},
          "execution_count": 48
        }
      ],
      "source": [
        "%%sql\n",
        "Drop view if exists EmployeeStats;\n",
        "\n",
        "-- your answer here\n",
        "create view EmployeeStats(AVG_Salary, Min_age, Max_age)\n",
        "as\n",
        "select AVG(E.salary), MIN(E.age), MAX(E.age)\n",
        "from Works W, Department D, Employee E\n",
        "where W.eid = E.eid and W.did = D.did\n",
        "group by D.did, D.dname\n",
        "having COUNT(*) >= 2;"
      ]
    },
    {
      "cell_type": "code",
      "source": [
        "%%sql\n",
        "select * from EmployeeStats;"
      ],
      "metadata": {
        "colab": {
          "base_uri": "https://localhost:8080/",
          "height": 139
        },
        "id": "njzeJGFPu42-",
        "outputId": "1d05bb1c-f24c-4714-f299-903351ebd426"
      },
      "execution_count": 49,
      "outputs": [
        {
          "output_type": "stream",
          "name": "stdout",
          "text": [
            " * sqlite:///lab7.db\n",
            "Done.\n"
          ]
        },
        {
          "output_type": "execute_result",
          "data": {
            "text/plain": [
              "[(30000.0, 25, 40), (43333.333333333336, 25, 55), (25000.0, 25, 35)]"
            ],
            "text/html": [
              "<table>\n",
              "    <thead>\n",
              "        <tr>\n",
              "            <th>AVG_Salary</th>\n",
              "            <th>Min_age</th>\n",
              "            <th>Max_age</th>\n",
              "        </tr>\n",
              "    </thead>\n",
              "    <tbody>\n",
              "        <tr>\n",
              "            <td>30000.0</td>\n",
              "            <td>25</td>\n",
              "            <td>40</td>\n",
              "        </tr>\n",
              "        <tr>\n",
              "            <td>43333.333333333336</td>\n",
              "            <td>25</td>\n",
              "            <td>55</td>\n",
              "        </tr>\n",
              "        <tr>\n",
              "            <td>25000.0</td>\n",
              "            <td>25</td>\n",
              "            <td>35</td>\n",
              "        </tr>\n",
              "    </tbody>\n",
              "</table>"
            ]
          },
          "metadata": {},
          "execution_count": 49
        }
      ]
    },
    {
      "cell_type": "markdown",
      "metadata": {
        "id": "4SC4hoiQuDNe"
      },
      "source": [
        "### Exercise 3\n",
        "Create a view named \"DepartmentPerformance\" that displays the average salary and the total number of employees in each department that the every employee is younger than or equal to 35."
      ]
    },
    {
      "cell_type": "code",
      "execution_count": null,
      "metadata": {
        "id": "MJH4TxbbuDNe",
        "colab": {
          "base_uri": "https://localhost:8080/"
        },
        "outputId": "4850957b-e4af-4976-d969-b5262f0bdc53"
      },
      "outputs": [
        {
          "output_type": "stream",
          "name": "stdout",
          "text": [
            " * sqlite:///lab7.db\n",
            "Done.\n",
            "Done.\n"
          ]
        },
        {
          "output_type": "execute_result",
          "data": {
            "text/plain": [
              "[]"
            ]
          },
          "metadata": {},
          "execution_count": 11
        }
      ],
      "source": [
        "%%sql\n",
        "Drop view if exists DepartmentPerformance;\n",
        "\n",
        "-- your answer here\n",
        "\n"
      ]
    },
    {
      "cell_type": "code",
      "source": [
        "%%sql\n",
        "select * from DepartmentPerformance;"
      ],
      "metadata": {
        "colab": {
          "base_uri": "https://localhost:8080/",
          "height": 96
        },
        "id": "eBc8XiA6vraT",
        "outputId": "d51744c8-9cbb-4ac3-87dc-0c33a1cf0f10"
      },
      "execution_count": null,
      "outputs": [
        {
          "output_type": "stream",
          "name": "stdout",
          "text": [
            " * sqlite:///lab7.db\n",
            "Done.\n"
          ]
        },
        {
          "output_type": "execute_result",
          "data": {
            "text/plain": [
              "[('Finance', 25000.0, 2)]"
            ],
            "text/html": [
              "<table>\n",
              "    <thead>\n",
              "        <tr>\n",
              "            <th>dname</th>\n",
              "            <th>avg_salary</th>\n",
              "            <th>total_employees</th>\n",
              "        </tr>\n",
              "    </thead>\n",
              "    <tbody>\n",
              "        <tr>\n",
              "            <td>Finance</td>\n",
              "            <td>25000.0</td>\n",
              "            <td>2</td>\n",
              "        </tr>\n",
              "    </tbody>\n",
              "</table>"
            ]
          },
          "metadata": {},
          "execution_count": 12
        }
      ]
    }
  ],
  "metadata": {
    "kernelspec": {
      "display_name": "Python 3",
      "language": "python",
      "name": "python3"
    },
    "language_info": {
      "codemirror_mode": {
        "name": "ipython",
        "version": 3
      },
      "file_extension": ".py",
      "mimetype": "text/x-python",
      "name": "python",
      "nbconvert_exporter": "python",
      "pygments_lexer": "ipython3",
      "version": "3.6.9"
    },
    "colab": {
      "provenance": []
    }
  },
  "nbformat": 4,
  "nbformat_minor": 0
}